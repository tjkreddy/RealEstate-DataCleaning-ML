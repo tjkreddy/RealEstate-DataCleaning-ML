{
  "cells": [
    {
      "cell_type": "code",
      "execution_count": 1,
      "metadata": {
        "colab": {
          "base_uri": "https://localhost:8080/"
        },
        "id": "lkZPtoQ6n9zh",
        "outputId": "e8dd6e4c-6b8e-4ee6-b892-783c08a47a7f"
      },
      "outputs": [
        {
          "output_type": "stream",
          "name": "stdout",
          "text": [
            "Mounted at /content/drive\n"
          ]
        }
      ],
      "source": [
        "from google.colab import drive\n",
        "drive.mount('/content/drive')\n"
      ]
    },
    {
      "cell_type": "code",
      "execution_count": null,
      "metadata": {
        "colab": {
          "background_save": true,
          "base_uri": "https://localhost:8080/"
        },
        "id": "aGYUQqupndck",
        "outputId": "7a79d128-1425-4952-b293-66e0e779bd74"
      },
      "outputs": [
        {
          "output_type": "stream",
          "name": "stdout",
          "text": [
            "MSE = 0.0743, R^2 = 0.9186\n"
          ]
        }
      ],
      "source": [
        "\n",
        "import pandas as pd\n",
        "from sklearn.ensemble import RandomForestRegressor\n",
        "from sklearn.model_selection import train_test_split\n",
        "from sklearn.preprocessing import LabelEncoder, StandardScaler\n",
        "from sklearn.impute import SimpleImputer\n",
        "from sklearn.metrics import mean_squared_error, r2_score\n",
        "import numpy as np\n",
        "\n",
        "file_path = '/content/drive/MyDrive/MachineLearning Project/Gurgaon_RealEstate.csv'\n",
        "data = pd.read_csv(file_path)\n",
        "\n",
        "categorical_features = data.select_dtypes(include='object').columns.tolist()\n",
        "numerical_features = data.select_dtypes(exclude='object').columns.tolist()\n",
        "\n",
        "data_copy = data.copy()\n",
        "\n",
        "imputer = SimpleImputer(strategy='most_frequent')\n",
        "data_copy[numerical_features] = imputer.fit_transform(data_copy[numerical_features])\n",
        "\n",
        "encoder = LabelEncoder()\n",
        "for col in categorical_features:\n",
        "    data_copy[col] = encoder.fit_transform(data_copy[col].astype(str))\n",
        "\n",
        "scaler = StandardScaler()\n",
        "data_copy[numerical_features] = scaler.fit_transform(data_copy[numerical_features])\n",
        "\n",
        "target = 'price'\n",
        "\n",
        "X = data_copy.drop(columns=[target])\n",
        "y = data_copy[target]\n",
        "\n",
        "X_train, X_test, y_train, y_test = train_test_split(X, y, test_size=0.2)\n",
        "\n",
        "model = RandomForestRegressor(n_estimators=100, max_depth=5)\n",
        "model.fit(X_train, y_train)\n",
        "\n",
        "y_pred = model.predict(X_test)\n",
        "mse = mean_squared_error(y_test, y_pred)\n",
        "r2 = r2_score(y_test, y_pred)\n",
        "\n",
        "print(f\"MSE = {mse:.4f}, R^2 = {r2:.4f}\")\n",
        "\n",
        "while True:\n",
        "    choice = input(\"\\nDo you want to predict on new data? (yes/no): \").lower()\n",
        "    if choice == 'yes':\n",
        "        new_data = {}\n",
        "        for feature in X.columns:\n",
        "            value = input(f\"Enter {feature}: \").strip()\n",
        "            new_data[feature] = [value]\n",
        "\n",
        "        new_data_df = pd.DataFrame(new_data)\n",
        "\n",
        "        for col in categorical_features:\n",
        "            if col in new_data_df.columns:\n",
        "                new_data_df[col] = new_data_df[col].apply(lambda x: x if x in encoder.classes_ else 'UNKNOWN')\n",
        "                new_data_df[col] = encoder.transform(new_data_df[col].astype(str))\n",
        "\n",
        "        for col in numerical_features:\n",
        "            if col in new_data_df.columns:\n",
        "                value = new_data_df[col].iloc[0]\n",
        "                if value == '':\n",
        "                    new_data_df[col] = np.nan\n",
        "                else:\n",
        "                    new_data_df[col] = scaler.transform(np.array([[float(value)]]))\n",
        "\n",
        "        prediction = model.predict(new_data_df.fillna(data_copy[numerical_features].median()))\n",
        "        print(f\"\\nPredicted price: {prediction[0]}\")\n",
        "    elif choice == 'no':\n",
        "        print(\"Exiting...\")\n",
        "        break\n",
        "    else:\n",
        "        print(\"Invalid choice. Please enter 'yes' or 'no'.\")\n"
      ]
    }
  ],
  "metadata": {
    "colab": {
      "provenance": []
    },
    "kernelspec": {
      "display_name": "Python 3",
      "name": "python3"
    },
    "language_info": {
      "name": "python"
    }
  },
  "nbformat": 4,
  "nbformat_minor": 0
}